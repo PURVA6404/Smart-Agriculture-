{
 "cells": [
  {
   "cell_type": "code",
   "execution_count": 11,
   "id": "09ad5e56",
   "metadata": {},
   "outputs": [],
   "source": [
    "import requests\n",
    "import datetime\n",
    "import pandas as pd\n",
    "from meteostat import Point, Monthly\n",
    "from sklearn.linear_model import LinearRegression\n",
    "import numpy as np\n",
    "from geopy.geocoders import Nominatim\n"
   ]
  },
  {
   "cell_type": "code",
   "execution_count": 12,
   "id": "b2f2b4ea",
   "metadata": {},
   "outputs": [],
   "source": [
    "# Tomorrow.io API Key\n",
    "API_KEY = \"mTgxFT8btimLVUoCY3ZkKQiwPxP6k0d6\"\n"
   ]
  },
  {
   "cell_type": "code",
   "execution_count": 18,
   "id": "d400de68",
   "metadata": {},
   "outputs": [],
   "source": [
    "def get_lat_lon(state, district, country=\"India\"):\n",
    "    try:\n",
    "        geolocator = Nominatim(user_agent=\"weather_forecast_app\")\n",
    "        query = f\"{district}, {state}, {country}\"\n",
    "        location = geolocator.geocode(query)\n",
    "        if location:\n",
    "            return location.latitude, location.longitude\n",
    "        else:\n",
    "            print(f\"⚠️ Could not find {query}, defaulting to Delhi.\")\n",
    "            return 28.7041, 77.1025\n",
    "    except:\n",
    "        print(\"⚠️ Error fetching location. Using default: Delhi\")\n",
    "        return 28.7041, 77.1025\n"
   ]
  },
  {
   "cell_type": "code",
   "execution_count": 14,
   "id": "c0bcf8e9",
   "metadata": {},
   "outputs": [],
   "source": [
    "def get_forecast_tomorrowio(lat, lon, start_date, end_date):\n",
    "    url = \"https://api.tomorrow.io/v4/timelines\"\n",
    "    headers = {\"apikey\": API_KEY}\n",
    "    params = {\n",
    "        \"location\": f\"{lat},{lon}\",\n",
    "        \"fields\": [\"temperature\", \"precipitationIntensity\", \"windSpeed\"],\n",
    "        \"startTime\": start_date.isoformat(),\n",
    "        \"endTime\": end_date.isoformat(),\n",
    "        \"timesteps\": \"1d\"\n",
    "    }\n",
    "\n",
    "    response = requests.get(url, headers=headers, params=params)\n",
    "    if response.status_code == 200:\n",
    "        return response.json()\n",
    "    else:\n",
    "        return None\n"
   ]
  },
  {
   "cell_type": "code",
   "execution_count": 19,
   "id": "37bf9d3b",
   "metadata": {},
   "outputs": [],
   "source": [
    "state = input(\"Enter state name: \")\n",
    "district = input(\"Enter district/city name: \")\n",
    "month = int(input(\"Enter month (1-12): \"))\n",
    "year = int(input(\"Enter year (e.g., 2025): \"))\n",
    "\n",
    "# Get coordinates\n",
    "lat, lon = get_lat_lon(state, district)\n",
    "\n",
    "# Define forecast period\n",
    "start_date = datetime.datetime(year, month, 1)\n",
    "if month == 12:\n",
    "    end_date = datetime.datetime(year + 1, 1, 1)\n",
    "else:\n",
    "    end_date = datetime.datetime(year, month + 1, 1)\n"
   ]
  },
  {
   "cell_type": "code",
   "execution_count": 20,
   "id": "8ec4248a",
   "metadata": {},
   "outputs": [],
   "source": [
    "state = input(\"Enter state name: \")\n",
    "district = input(\"Enter district/city name: \")\n",
    "month = int(input(\"Enter month (1-12): \"))\n",
    "year = int(input(\"Enter year (e.g., 2025): \"))\n",
    "\n",
    "# Get coordinates\n",
    "lat, lon = get_lat_lon(state, district)\n",
    "\n",
    "# Define forecast period\n",
    "start_date = datetime.datetime(year, month, 1)\n",
    "if month == 12:\n",
    "    end_date = datetime.datetime(year + 1, 1, 1)\n",
    "else:\n",
    "    end_date = datetime.datetime(year, month + 1, 1)\n"
   ]
  },
  {
   "cell_type": "code",
   "execution_count": 21,
   "id": "bafef689",
   "metadata": {},
   "outputs": [
    {
     "name": "stdout",
     "output_type": "stream",
     "text": [
      "\n",
      "⚠️ Tomorrow.io API unavailable or returned no data. Using historical prediction...\n",
      "Predicted Weather (based on historical data):\n",
      "🌡 Avg Temperature: 26.59 °C\n",
      "🌧 Precipitation: 111.71 mm\n"
     ]
    },
    {
     "name": "stderr",
     "output_type": "stream",
     "text": [
      "UserWarning: X does not have valid feature names, but LinearRegression was fitted with feature names\n",
      "UserWarning: X does not have valid feature names, but LinearRegression was fitted with feature names\n"
     ]
    }
   ],
   "source": [
    "forecast = get_forecast_tomorrowio(lat, lon, start_date, end_date)\n",
    "\n",
    "if forecast and \"data\" in forecast and forecast[\"data\"][\"timelines\"]:\n",
    "    print(\"\\n🌦 Weather Forecast from Tomorrow.io:\")\n",
    "    for interval in forecast[\"data\"][\"timelines\"][0][\"intervals\"]:\n",
    "        print(interval[\"startTime\"], \n",
    "              \"Temp:\", interval[\"values\"][\"temperature\"], \"°C\", \n",
    "              \"Precip:\", interval[\"values\"][\"precipitationIntensity\"], \"mm/hr\",\n",
    "              \"Wind:\", interval[\"values\"][\"windSpeed\"], \"m/s\")\n",
    "else:\n",
    "    print(\"\\n⚠️ Tomorrow.io API unavailable or returned no data. Using historical prediction...\")\n",
    "    prediction = predict_weather_historical(lat, lon, month, year)\n",
    "    if prediction:\n",
    "        print(\"Predicted Weather (based on historical data):\")\n",
    "        print(f\"🌡 Avg Temperature: {prediction['predicted_temperature']} °C\")\n",
    "        print(f\"🌧 Precipitation: {prediction['predicted_precipitation_mm']} mm\")\n",
    "    else:\n",
    "        print(\"No historical data available for this region.\")\n"
   ]
  },
  {
   "cell_type": "code",
   "execution_count": 27,
   "id": "2b5e5059",
   "metadata": {},
   "outputs": [
    {
     "data": {
      "text/plain": [
       "['historical_weather_model.pkl']"
      ]
     },
     "execution_count": 27,
     "metadata": {},
     "output_type": "execute_result"
    }
   ],
   "source": [
    "import joblib\n",
    "\n",
    "# Save the trained historical weather regression model\n",
    "joblib.dump(forecast, 'historical_weather_model.pkl')\n"
   ]
  },
  {
   "cell_type": "code",
   "execution_count": null,
   "id": "d893676f",
   "metadata": {},
   "outputs": [],
   "source": []
  }
 ],
 "metadata": {
  "kernelspec": {
   "display_name": "Python 3",
   "language": "python",
   "name": "python3"
  },
  "language_info": {
   "codemirror_mode": {
    "name": "ipython",
    "version": 3
   },
   "file_extension": ".py",
   "mimetype": "text/x-python",
   "name": "python",
   "nbconvert_exporter": "python",
   "pygments_lexer": "ipython3",
   "version": "3.13.4"
  }
 },
 "nbformat": 4,
 "nbformat_minor": 5
}
